{
 "cells": [
  {
   "cell_type": "code",
   "execution_count": null,
   "metadata": {},
   "outputs": [],
   "source": [
    "import os\n",
    "import h5py    \n",
    "import numpy as np\n",
    "import pandas as pd\n",
    "\n",
    "## Opening the hd file uisng h5py and extracting the features we need and convert expressions into an array\n",
    "filename = 'sample-T_scR_Ar1v4.0__raw.h5'\n",
    "raw      = h5py.File(filename, 'r')\n",
    "rawcounts= raw['raw_counts']\n",
    "cells    = raw['cell_attrs']\n",
    "genes    = raw['gene_attrs']\n",
    "rawcountsA= np.array(rawcounts)\n",
    "\n",
    "#Transpose the expression matrix (not necessary for this, only as reference):\n",
    "rawcountsT = rawcountsA.transpose()\n",
    "gene_ids   = np.array(genes['gene_ids'])\n",
    "\n",
    "# Convert the transposed expression matrix into a dataframe\n",
    "mydataframe= pd.DataFrame(data=rawcountsT, index=gene_ids, columns=cells['cell_names'])\n",
    "\n",
    "# Calculating the column sum from the dataframe\n",
    "# Extracting the required collumns and removing unwanted parts of the dataframe\n",
    "# Apparently, needed to decode the geneid columns\n",
    "mydataframe[\"cell_sum\"]=mydataframe.sum(axis = 1, skipna = True) \n",
    "MAQ                    = mydataframe[[\"cell_sum\"]]\n",
    "MAQ.reset_index(level=0, inplace=True)\n",
    "MAQ.rename(columns={'index':\"gene\"},inplace=True)\n",
    "MAQ['gene']          =MAQ['gene'].str.decode('utf-8')\n",
    "MAQ['cell_sum']      =MAQ['cell_sum'].astype(int)\n",
    "\n",
    "# Saving the converted artifical bulk RNA\n",
    "MAQ.to_csv(\"sample_artifical_bulk.tsv\",sep=\"\\t\", index=False, header=None)"
   ]
  }
 ],
 "metadata": {
  "kernelspec": {
   "display_name": "Python 3",
   "language": "python",
   "name": "python3"
  },
  "language_info": {
   "codemirror_mode": {
    "name": "ipython",
    "version": 3
   },
   "file_extension": ".py",
   "mimetype": "text/x-python",
   "name": "python",
   "nbconvert_exporter": "python",
   "pygments_lexer": "ipython3",
   "version": "3.7.2"
  }
 },
 "nbformat": 4,
 "nbformat_minor": 2
}
