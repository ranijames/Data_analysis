{
 "cells": [
  {
   "cell_type": "markdown",
   "metadata": {},
   "source": [
    "The way for merging the values in dictionary, if the key has same sample_id's "
   ]
  },
  {
   "cell_type": "code",
   "execution_count": 4,
   "metadata": {},
   "outputs": [
    {
     "name": "stdout",
     "output_type": "stream",
     "text": [
      "{'SAP_10_L1': ['SAP_10_L1_R1_001.gz', 'SAP_10_L2_R1.gz'], 'SOS-02289_4_5_L1': ['SOS_4_5_L1.gz', 'SOS_4_5_L2.gz']}\n"
     ]
    }
   ],
   "source": [
    "from itertools import groupby, chain\n",
    "\n",
    "d = {'SAP_10_L1': ['SAP_10_L1_R1_001.gz'],'SAP_10_L2': ['SAP_10_L2_R1.gz'],'SOS-02289_4_5_L1': ['SOS_4_5_L1.gz'],'SOS-02289_4_5_L2': ['SOS_4_5_L2.gz']}\n",
    "\n",
    "result = {}\n",
    "for k,v in groupby(sorted(d.items()), lambda x: x[0].rsplit(\"_\", 1)[0]):\n",
    "    value = list(v)\n",
    "    result[value[0][0]] = list(chain.from_iterable([i[1] for i in value]))\n",
    "print(result)"
   ]
  }
 ],
 "metadata": {
  "kernelspec": {
   "display_name": "Python 3",
   "language": "python",
   "name": "python3"
  },
  "language_info": {
   "codemirror_mode": {
    "name": "ipython",
    "version": 3
   },
   "file_extension": ".py",
   "mimetype": "text/x-python",
   "name": "python",
   "nbconvert_exporter": "python",
   "pygments_lexer": "ipython3",
   "version": "3.7.2"
  }
 },
 "nbformat": 4,
 "nbformat_minor": 2
}
