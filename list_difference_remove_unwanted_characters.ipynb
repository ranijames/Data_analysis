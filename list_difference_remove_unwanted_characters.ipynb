{
 "cells": [
  {
   "cell_type": "code",
   "execution_count": 5,
   "metadata": {},
   "outputs": [],
   "source": [
    "import os\n",
    "import numpy as np\n",
    "import pandas as pd\n",
    "HIF = pd.read_csv(\"HIF\",sep=\"\\t\",header=None)\n",
    "\n",
    "# selecting first row from column 1 to 32\n",
    "HIF_artifical_list=HIF.loc[0, :32].values.tolist()\n",
    "HIF_genes_original= [\"ENSG00000148926\", \"ENSG00000109107\", \"ENSG00000176171\",\n",
    "                  \"ENSG00000104765\", \"ENSG00000074410\", \"ENSG00000107159\",\n",
    "                  \"ENSG00000130635\", \"ENSG00000047457\", \"ENSG00000168209\",\n",
    "                  \"ENSG00000129521\", \"ENSG00000111674\", \"ENSG00000104812\",\n",
    "                  \"ENSG00000159399\", \"ENSG00000100292\", \"ENSG00000134333\",\n",
    "                  \"ENSG00000113083\", \"ENSG00000123384\", \"ENSG00000185499\",\n",
    "                  \"ENSG00000119950\", \"ENSG00000104419\", \"ENSG00000185633\",\n",
    "                  \"ENSG00000124785\", \"ENSG00000152256\", \"ENSG00000114268\",\n",
    "                  \"ENSG00000204531\", \"ENSG00000119938\", \"ENSG00000139832\",\n",
    "                  \"ENSG00000141526\", \"ENSG00000117394\", \"ENSG00000103257\",\n",
    "                  \"ENSG00000113739\", \"ENSG00000265972\", \"ENSG00000112715\",\n",
    "                  \"ENSG00000186918\", \"ENSG00000117289\"]"
   ]
  },
  {
   "cell_type": "markdown",
   "metadata": {},
   "source": [
    "Find the difference between orgibal list of genes and artifical list of genes"
   ]
  },
  {
   "cell_type": "code",
   "execution_count": 4,
   "metadata": {},
   "outputs": [
    {
     "data": {
      "text/plain": [
       "['ENSG00000204531', 'ENSG00000265972']"
      ]
     },
     "execution_count": 4,
     "metadata": {},
     "output_type": "execute_result"
    }
   ],
   "source": [
    "list(set(HIF_genes_original) - set(HIF_artifical_list))"
   ]
  },
  {
   "cell_type": "markdown",
   "metadata": {},
   "source": [
    "Removing the dot and characters after that from gene_ids"
   ]
  },
  {
   "cell_type": "code",
   "execution_count": null,
   "metadata": {},
   "outputs": [],
   "source": [
    "genocode_genes = pd.read_csv(\"gencode.v19.annotation.coding_gene_list.tab\",sep=\"\\t\",header=None)\n",
    "genocode_genes[4]=genocode_genes[4].apply(lambda x:x.split(\".\")[0])"
   ]
  }
 ],
 "metadata": {
  "kernelspec": {
   "display_name": "Python 3",
   "language": "python",
   "name": "python3"
  },
  "language_info": {
   "codemirror_mode": {
    "name": "ipython",
    "version": 3
   },
   "file_extension": ".py",
   "mimetype": "text/x-python",
   "name": "python",
   "nbconvert_exporter": "python",
   "pygments_lexer": "ipython3",
   "version": "3.7.2"
  }
 },
 "nbformat": 4,
 "nbformat_minor": 2
}
